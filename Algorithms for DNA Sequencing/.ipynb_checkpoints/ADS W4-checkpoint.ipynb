{
 "cells": [
  {
   "cell_type": "code",
   "execution_count": 21,
   "metadata": {},
   "outputs": [],
   "source": [
    "def readFastq(filename):\n",
    "    sequences = []\n",
    "    qualities = []\n",
    "    with open(filename) as fh:\n",
    "        while True:\n",
    "            fh.readline()  # skip name line\n",
    "            seq = fh.readline().rstrip()  # read base sequence\n",
    "            fh.readline()  # skip placeholder line\n",
    "            qual = fh.readline().rstrip() # base quality line\n",
    "            if len(seq) == 0:\n",
    "                break\n",
    "            sequences.append(seq)\n",
    "            qualities.append(qual)\n",
    "    return sequences, qualities"
   ]
  },
  {
   "cell_type": "code",
   "execution_count": 15,
   "metadata": {},
   "outputs": [],
   "source": [
    "def overlap(a, b, min_length=3):\n",
    "    \"\"\" Return length of longest suffix of 'a' matching\n",
    "        a prefix of 'b' that is at least 'min_length'\n",
    "        characters long.  If no such overlap exists,\n",
    "        return 0. \"\"\"\n",
    "    start = 0  # start all the way at the left\n",
    "    while True:\n",
    "        start = a.find(b[:min_length], start)  # look for b's suffx in a\n",
    "        if start == -1:  # no more occurrences to right\n",
    "            return 0\n",
    "        # found occurrence; check for full suffix/prefix match\n",
    "        if b.startswith(a[start:]):\n",
    "            return len(a)-start\n",
    "        start += 1  # move just past previous match\n",
    "\n",
    "import itertools\n",
    "\n",
    "def scs(ss):\n",
    "    \"\"\" Returns shortest common superstring of given\n",
    "        strings, which must be the same length \"\"\"\n",
    "    shortest_sup = None\n",
    "    shortest_sups_list = []\n",
    "    for ssperm in itertools.permutations(ss):\n",
    "        sup = ssperm[0]  # superstring starts as first string\n",
    "        for i in range(len(ss)-1):\n",
    "            # overlap adjacent strings A and B in the permutation\n",
    "            olen = overlap(ssperm[i], ssperm[i+1], min_length=1)\n",
    "            # add non-overlapping portion of B to superstring\n",
    "            sup += ssperm[i+1][olen:]\n",
    "        if shortest_sup is None or len(sup) <= len(shortest_sup):\n",
    "            if shortest_sup is not None and len(sup) < len(shortest_sup) :\n",
    "                shortest_sups_list = []\n",
    "            shortest_sups_list.append(sup)\n",
    "            shortest_sup = sup  # found shorter superstring\n",
    "        \n",
    "    return shortest_sup, shortest_sups_list # return shortest"
   ]
  },
  {
   "cell_type": "code",
   "execution_count": 16,
   "metadata": {},
   "outputs": [],
   "source": [
    "ss = ['ATT', 'CCT', 'CTT', 'TGC', 'TGG', 'GAT']"
   ]
  },
  {
   "cell_type": "code",
   "execution_count": 17,
   "metadata": {},
   "outputs": [],
   "source": [
    "sup, sup_list = scs(ss)"
   ]
  },
  {
   "cell_type": "code",
   "execution_count": 20,
   "metadata": {},
   "outputs": [
    {
     "data": {
      "text/plain": [
       "11"
      ]
     },
     "execution_count": 20,
     "metadata": {},
     "output_type": "execute_result"
    }
   ],
   "source": [
    "len(sup)"
   ]
  },
  {
   "cell_type": "code",
   "execution_count": 19,
   "metadata": {},
   "outputs": [
    {
     "data": {
      "text/plain": [
       "['CCTTGGATTGC', 'TGCCTTGGATT', 'TGGATTGCCTT', 'GATTGCCTTGG']"
      ]
     },
     "execution_count": 19,
     "metadata": {},
     "output_type": "execute_result"
    }
   ],
   "source": [
    "sup_list"
   ]
  },
  {
   "cell_type": "code",
   "execution_count": 25,
   "metadata": {},
   "outputs": [],
   "source": [
    "ss_virus, _ = readFastq('ads1_week4_reads.fq')"
   ]
  },
  {
   "cell_type": "code",
   "execution_count": 33,
   "metadata": {},
   "outputs": [
    {
     "data": {
      "text/plain": [
       "1881"
      ]
     },
     "execution_count": 33,
     "metadata": {},
     "output_type": "execute_result"
    }
   ],
   "source": [
    "len(ss_virus)"
   ]
  },
  {
   "cell_type": "code",
   "execution_count": null,
   "metadata": {},
   "outputs": [],
   "source": [
    "def traverse(g, s) :\n",
    "    scs = g[s]\n",
    "    nextNode = s\n",
    "    while True :\n",
    "        if (len(g[nextNode]) == 0):\n",
    "            break\n",
    "        scs += g[nextNode][0][-1]\n",
    "        nextNode = g[nextNode][0]\n",
    "    return "
   ]
  },
  {
   "cell_type": "code",
   "execution_count": 98,
   "metadata": {},
   "outputs": [],
   "source": [
    "def Neinnn(reads) :\n",
    "    #edges = []\n",
    "    #nodes = set()\n",
    "    #received = set()\n",
    "    graph = {}\n",
    "    inEdges = {}\n",
    "    counter = 0\n",
    "    #build the graph\n",
    "    for i in range(len(reads)) :\n",
    "        if reads[i][:-1] not in graph:\n",
    "            graph[reads[i][:-1]] = []\n",
    "            counter += 1\n",
    "        if reads[i][1:] not in graph:\n",
    "            graph[reads[i][1:]] = []\n",
    "            counter += 1\n",
    "        if reads[i][1:] not in inEdges:\n",
    "            inEdges[reads[i][1:]] = 0\n",
    "        \n",
    "        graph[reads[i][:-1]].append(reads[i][1:])\n",
    "        inEdges[reads[i][1:]] += 1\n",
    "        \n",
    "        #edges.append((reads[i][:-1], reads[i][1:]))\n",
    "        #nodes.add(reads[i][:-1])\n",
    "        #nodes.add(reads[i][1:])\n",
    "        \n",
    "    #start from the node with the least incoming edges\n",
    "    startNode = None\n",
    "    for node in inEdges:\n",
    "        if startNode is None or inEdges[node] < inEdges[startNode]:\n",
    "            startNode = node\n",
    "    \n",
    "    #traverse the graph\n",
    "    scs = startNode\n",
    "    \n",
    "    nextNode = graph[startNode][0]\n",
    "    print(graph[nextNode][0])\n",
    "    while True :\n",
    "        if (len(graph[nextNode]) == 0):\n",
    "            break\n",
    "        scs += graph[nextNode][0][-1]\n",
    "        nextNode = graph[nextNode][0]\n",
    "    \n",
    "    return scs\n",
    "        "
   ]
  },
  {
   "cell_type": "code",
   "execution_count": 99,
   "metadata": {
    "scrolled": true
   },
   "outputs": [
    {
     "name": "stdout",
     "output_type": "stream",
     "text": [
      "3502\n",
      "3502\n"
     ]
    },
    {
     "ename": "IndexError",
     "evalue": "list index out of range",
     "output_type": "error",
     "traceback": [
      "\u001b[1;31m---------------------------------------------------------------------------\u001b[0m",
      "\u001b[1;31mIndexError\u001b[0m                                Traceback (most recent call last)",
      "\u001b[1;32m<ipython-input-99-cd9870a0510f>\u001b[0m in \u001b[0;36m<module>\u001b[1;34m\u001b[0m\n\u001b[1;32m----> 1\u001b[1;33m \u001b[0mscsFaster\u001b[0m\u001b[1;33m(\u001b[0m\u001b[0mss_virus\u001b[0m\u001b[1;33m)\u001b[0m\u001b[1;33m\u001b[0m\u001b[1;33m\u001b[0m\u001b[0m\n\u001b[0m",
      "\u001b[1;32m<ipython-input-98-e809fe49d4c1>\u001b[0m in \u001b[0;36mscsFaster\u001b[1;34m(reads)\u001b[0m\n\u001b[0;32m     34\u001b[0m     \u001b[0mprint\u001b[0m\u001b[1;33m(\u001b[0m\u001b[0mcounter\u001b[0m\u001b[1;33m)\u001b[0m\u001b[1;33m\u001b[0m\u001b[1;33m\u001b[0m\u001b[0m\n\u001b[0;32m     35\u001b[0m     \u001b[0mprint\u001b[0m\u001b[1;33m(\u001b[0m\u001b[0mlen\u001b[0m\u001b[1;33m(\u001b[0m\u001b[0mgraph\u001b[0m\u001b[1;33m)\u001b[0m\u001b[1;33m)\u001b[0m\u001b[1;33m\u001b[0m\u001b[1;33m\u001b[0m\u001b[0m\n\u001b[1;32m---> 36\u001b[1;33m     \u001b[0mnextNode\u001b[0m \u001b[1;33m=\u001b[0m \u001b[0mgraph\u001b[0m\u001b[1;33m[\u001b[0m\u001b[0mstartNode\u001b[0m\u001b[1;33m]\u001b[0m\u001b[1;33m[\u001b[0m\u001b[1;36m0\u001b[0m\u001b[1;33m]\u001b[0m\u001b[1;33m\u001b[0m\u001b[1;33m\u001b[0m\u001b[0m\n\u001b[0m\u001b[0;32m     37\u001b[0m     \u001b[0mprint\u001b[0m\u001b[1;33m(\u001b[0m\u001b[0mgraph\u001b[0m\u001b[1;33m[\u001b[0m\u001b[0mnextNode\u001b[0m\u001b[1;33m]\u001b[0m\u001b[1;33m[\u001b[0m\u001b[1;36m0\u001b[0m\u001b[1;33m]\u001b[0m\u001b[1;33m)\u001b[0m\u001b[1;33m\u001b[0m\u001b[1;33m\u001b[0m\u001b[0m\n\u001b[0;32m     38\u001b[0m     \u001b[1;32mwhile\u001b[0m \u001b[1;32mTrue\u001b[0m \u001b[1;33m:\u001b[0m\u001b[1;33m\u001b[0m\u001b[1;33m\u001b[0m\u001b[0m\n",
      "\u001b[1;31mIndexError\u001b[0m: list index out of range"
     ]
    }
   ],
   "source": [
    "scsFaster(ss_virus)"
   ]
  },
  {
   "cell_type": "code",
   "execution_count": 101,
   "metadata": {},
   "outputs": [],
   "source": [
    "def findKmers(read, k):\n",
    "    kmers = set()\n",
    "    for i in range(len(read) - k + 1):\n",
    "        kmers.add(read[i:i + k])\n",
    "    return kmers\n",
    "\n",
    "def overlap_all_pairs(reads, min_length):\n",
    "    pairs = set()\n",
    "    kmerToRead = {}\n",
    "    #kmers[] = set()\n",
    "    \n",
    "    for read in reads:\n",
    "        kmersInRead = findKmers(read, min_length)\n",
    "        for kmer in kmersInRead:\n",
    "            if kmer not in kmerToRead :\n",
    "                kmerToRead[kmer] = set()\n",
    "            kmerToRead[kmer].add(read)\n",
    "    \n",
    "    for read in reads:\n",
    "        otherReads = kmerToRead[read[len(read) - min_length:]]\n",
    "        for otherRead in otherReads:\n",
    "            if read != otherRead:\n",
    "                if overlap(read, otherRead, min_length) != 0 :\n",
    "                    pairs.add((read, otherRead))\n",
    "    \n",
    "    return pairs"
   ]
  },
  {
   "cell_type": "code",
   "execution_count": 102,
   "metadata": {},
   "outputs": [],
   "source": [
    "def pickMaxOverlap(reads, k) :\n",
    "    reada, readb = None, None\n",
    "    best_olen = 0\n",
    "    kmerToRead = {}\n",
    "    \n",
    "    for read in reads:\n",
    "        kmersInRead = findKmers(read, min_length)\n",
    "        for kmer in kmersInRead:\n",
    "            if kmer not in kmerToRead :\n",
    "                kmerToRead[kmer] = set()\n",
    "            kmerToRead[kmer].add(read)\n",
    "    \n",
    "    for read in reads:\n",
    "        otherReads = kmerToRead[read[len(read) - min_length:]]\n",
    "        for otherRead in otherReads:\n",
    "            if read != otherRead:\n",
    "                olen = overlap(read, otherRead, min_length)\n",
    "                if olen > best_olen :\n",
    "                    reada, readb = read, otherRead\n",
    "                    best_olen = olen\n",
    "    return reada, readb, best_olen"
   ]
  },
  {
   "cell_type": "code",
   "execution_count": 103,
   "metadata": {},
   "outputs": [],
   "source": [
    "def greedy_scs(reads, k):\n",
    "    reada, readb, olen = pickMaxOverLap(reads, k)\n",
    "    while olen > 0 :\n",
    "        reads.remove(reada)\n",
    "        reads.remove(readb)\n",
    "        reads.append(reada + readb[olen:])\n",
    "        reada, readb, olen = pickMaxOverLap(reads, k)\n",
    "    return ''.join(reads)"
   ]
  },
  {
   "cell_type": "code",
   "execution_count": null,
   "metadata": {},
   "outputs": [],
   "source": [
    "greedy_scs()"
   ]
  }
 ],
 "metadata": {
  "kernelspec": {
   "display_name": "Python 3",
   "language": "python",
   "name": "python3"
  },
  "language_info": {
   "codemirror_mode": {
    "name": "ipython",
    "version": 3
   },
   "file_extension": ".py",
   "mimetype": "text/x-python",
   "name": "python",
   "nbconvert_exporter": "python",
   "pygments_lexer": "ipython3",
   "version": "3.7.6"
  }
 },
 "nbformat": 4,
 "nbformat_minor": 4
}
